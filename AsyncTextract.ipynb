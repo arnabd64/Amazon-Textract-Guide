{
  "nbformat": 4,
  "nbformat_minor": 0,
  "metadata": {
    "colab": {
      "provenance": [],
      "authorship_tag": "ABX9TyPrTUUvU2K5JaerSqnPl8uL",
      "include_colab_link": true
    },
    "kernelspec": {
      "name": "python3",
      "display_name": "Python 3"
    },
    "language_info": {
      "name": "python"
    }
  },
  "cells": [
    {
      "cell_type": "markdown",
      "metadata": {
        "id": "view-in-github",
        "colab_type": "text"
      },
      "source": [
        "<a href=\"https://colab.research.google.com/github/arnabd64/Amazon-Textract-Guide/blob/main/AsyncTextract.ipynb\" target=\"_parent\"><img src=\"https://colab.research.google.com/assets/colab-badge.svg\" alt=\"Open In Colab\"/></a>"
      ]
    },
    {
      "cell_type": "markdown",
      "source": [
        "# Amazon Textract: Asynchronous Multipage PDF extraction"
      ],
      "metadata": {
        "id": "__kbdf3kMf0L"
      }
    },
    {
      "cell_type": "code",
      "source": [
        "! pip install --progress-bar=off \\\n",
        "    boto3 \\\n",
        "    botocore \\\n",
        "  > install.txt"
      ],
      "metadata": {
        "id": "fRB5OZd4Mlfr"
      },
      "execution_count": null,
      "outputs": []
    },
    {
      "cell_type": "code",
      "source": [
        "import logging\n",
        "\n",
        "# Create a logger\n",
        "log = logging.getLogger('log')\n",
        "log.propagate = False\n",
        "log.setLevel(logging.INFO)\n",
        "\n",
        "# Create a custom logging format\n",
        "formatter = logging.Formatter('%(levelname)s - %(message)s')\n",
        "\n",
        "# Create a console handler\n",
        "console = logging.StreamHandler()\n",
        "console.setFormatter(formatter)\n",
        "logfile = logging.FileHandler('log.txt')\n",
        "logfile.setFormatter(formatter)\n",
        "\n",
        "# Add the handler to the logger\n",
        "log.addHandler(console)\n",
        "log.addHandler(logfile)"
      ],
      "metadata": {
        "id": "JKb_1qjyT98r"
      },
      "execution_count": null,
      "outputs": []
    },
    {
      "cell_type": "code",
      "source": [
        "# @title AWS Credentials\n",
        "AWS_ACCESS_KEY_ID = \"\" # @param {\"type\":\"string\"}\n",
        "AWS_SECRET_ACCESS_KEY = \"\" # @param {\"type\":\"string\"}\n",
        "AWS_REGION_NAME = \"\" # @param {\"type\":\"string\"}\n",
        "\n",
        "# Create Session\n",
        "import boto3\n",
        "import botocore\n",
        "\n",
        "AWS_SESSION = boto3.Session(\n",
        "    aws_access_key_id=AWS_ACCESS_KEY_ID,\n",
        "    aws_secret_access_key=AWS_SECRET_ACCESS_KEY,\n",
        "    region_name=AWS_REGION_NAME\n",
        ")\n",
        "log.info(f\"AWS Session Created\")\n",
        "\n",
        "s3 = AWS_SESSION.client('s3')\n",
        "textract = AWS_SESSION.client('textract')"
      ],
      "metadata": {
        "colab": {
          "base_uri": "https://localhost:8080/"
        },
        "id": "pQ8F1C34NUPh",
        "outputId": "47dd4094-8388-43b4-8d62-f05840724866"
      },
      "execution_count": null,
      "outputs": [
        {
          "output_type": "stream",
          "name": "stderr",
          "text": [
            "INFO - AWS Session Created\n"
          ]
        }
      ]
    },
    {
      "cell_type": "markdown",
      "source": [
        "## Create Bucket"
      ],
      "metadata": {
        "id": "Y3JJSErUsps2"
      }
    },
    {
      "cell_type": "code",
      "source": [
        "s3.list_buckets()"
      ],
      "metadata": {
        "colab": {
          "base_uri": "https://localhost:8080/"
        },
        "id": "vhnnsUrRspYW",
        "outputId": "49217704-4d0b-4cf9-f064-41f6f10caab8"
      },
      "execution_count": null,
      "outputs": [
        {
          "output_type": "execute_result",
          "data": {
            "text/plain": [
              "{'ResponseMetadata': {'RequestId': '5G3KMK2VXP42ADTB',\n",
              "  'HostId': 'SXzJgIpqpwej1Z6+C4rrplr2+jrcEGdRX/3Q5RwoYRxx/YV9vfPK4cJHYmyL3Rid9F7YcIzkxmzNCorLWPjvmg==',\n",
              "  'HTTPStatusCode': 200,\n",
              "  'HTTPHeaders': {'x-amz-id-2': 'SXzJgIpqpwej1Z6+C4rrplr2+jrcEGdRX/3Q5RwoYRxx/YV9vfPK4cJHYmyL3Rid9F7YcIzkxmzNCorLWPjvmg==',\n",
              "   'x-amz-request-id': '5G3KMK2VXP42ADTB',\n",
              "   'date': 'Tue, 04 Feb 2025 11:24:18 GMT',\n",
              "   'content-type': 'application/xml',\n",
              "   'transfer-encoding': 'chunked',\n",
              "   'server': 'AmazonS3'},\n",
              "  'RetryAttempts': 0},\n",
              " 'Buckets': [{'Name': 'textract-cache-store',\n",
              "   'CreationDate': datetime.datetime(2025, 1, 20, 7, 46, 23, tzinfo=tzlocal())}],\n",
              " 'Owner': {'ID': '173f9568245bd4d315dcdb1f79aff2fe640487d178e0f3b5252f341860a6e0de'}}"
            ]
          },
          "metadata": {},
          "execution_count": 5
        }
      ]
    },
    {
      "cell_type": "markdown",
      "source": [
        "## Upload Document"
      ],
      "metadata": {
        "id": "1TlrRSiyQ5Q5"
      }
    },
    {
      "cell_type": "code",
      "source": [
        "from pathlib import Path\n",
        "from google.colab import files\n",
        "\n",
        "# Initiate Upload\n",
        "uploaded_files = files.upload()\n",
        "\n",
        "# Retrieve the Filepath\n",
        "FILEPATH = Path(list(uploaded_files.keys())[0])\n",
        "log.info(f\"FilePath: {FILEPATH.absolute()}\")"
      ],
      "metadata": {
        "colab": {
          "base_uri": "https://localhost:8080/",
          "height": 92
        },
        "id": "9bLPZXMePXiB",
        "outputId": "58dc8855-d169-457c-b10d-d42e6cbcd0f2"
      },
      "execution_count": null,
      "outputs": [
        {
          "output_type": "display_data",
          "data": {
            "text/plain": [
              "<IPython.core.display.HTML object>"
            ],
            "text/html": [
              "\n",
              "     <input type=\"file\" id=\"files-fa39901f-c739-4c04-903c-c39a7a5d11c7\" name=\"files[]\" multiple disabled\n",
              "        style=\"border:none\" />\n",
              "     <output id=\"result-fa39901f-c739-4c04-903c-c39a7a5d11c7\">\n",
              "      Upload widget is only available when the cell has been executed in the\n",
              "      current browser session. Please rerun this cell to enable.\n",
              "      </output>\n",
              "      <script>// Copyright 2017 Google LLC\n",
              "//\n",
              "// Licensed under the Apache License, Version 2.0 (the \"License\");\n",
              "// you may not use this file except in compliance with the License.\n",
              "// You may obtain a copy of the License at\n",
              "//\n",
              "//      http://www.apache.org/licenses/LICENSE-2.0\n",
              "//\n",
              "// Unless required by applicable law or agreed to in writing, software\n",
              "// distributed under the License is distributed on an \"AS IS\" BASIS,\n",
              "// WITHOUT WARRANTIES OR CONDITIONS OF ANY KIND, either express or implied.\n",
              "// See the License for the specific language governing permissions and\n",
              "// limitations under the License.\n",
              "\n",
              "/**\n",
              " * @fileoverview Helpers for google.colab Python module.\n",
              " */\n",
              "(function(scope) {\n",
              "function span(text, styleAttributes = {}) {\n",
              "  const element = document.createElement('span');\n",
              "  element.textContent = text;\n",
              "  for (const key of Object.keys(styleAttributes)) {\n",
              "    element.style[key] = styleAttributes[key];\n",
              "  }\n",
              "  return element;\n",
              "}\n",
              "\n",
              "// Max number of bytes which will be uploaded at a time.\n",
              "const MAX_PAYLOAD_SIZE = 100 * 1024;\n",
              "\n",
              "function _uploadFiles(inputId, outputId) {\n",
              "  const steps = uploadFilesStep(inputId, outputId);\n",
              "  const outputElement = document.getElementById(outputId);\n",
              "  // Cache steps on the outputElement to make it available for the next call\n",
              "  // to uploadFilesContinue from Python.\n",
              "  outputElement.steps = steps;\n",
              "\n",
              "  return _uploadFilesContinue(outputId);\n",
              "}\n",
              "\n",
              "// This is roughly an async generator (not supported in the browser yet),\n",
              "// where there are multiple asynchronous steps and the Python side is going\n",
              "// to poll for completion of each step.\n",
              "// This uses a Promise to block the python side on completion of each step,\n",
              "// then passes the result of the previous step as the input to the next step.\n",
              "function _uploadFilesContinue(outputId) {\n",
              "  const outputElement = document.getElementById(outputId);\n",
              "  const steps = outputElement.steps;\n",
              "\n",
              "  const next = steps.next(outputElement.lastPromiseValue);\n",
              "  return Promise.resolve(next.value.promise).then((value) => {\n",
              "    // Cache the last promise value to make it available to the next\n",
              "    // step of the generator.\n",
              "    outputElement.lastPromiseValue = value;\n",
              "    return next.value.response;\n",
              "  });\n",
              "}\n",
              "\n",
              "/**\n",
              " * Generator function which is called between each async step of the upload\n",
              " * process.\n",
              " * @param {string} inputId Element ID of the input file picker element.\n",
              " * @param {string} outputId Element ID of the output display.\n",
              " * @return {!Iterable<!Object>} Iterable of next steps.\n",
              " */\n",
              "function* uploadFilesStep(inputId, outputId) {\n",
              "  const inputElement = document.getElementById(inputId);\n",
              "  inputElement.disabled = false;\n",
              "\n",
              "  const outputElement = document.getElementById(outputId);\n",
              "  outputElement.innerHTML = '';\n",
              "\n",
              "  const pickedPromise = new Promise((resolve) => {\n",
              "    inputElement.addEventListener('change', (e) => {\n",
              "      resolve(e.target.files);\n",
              "    });\n",
              "  });\n",
              "\n",
              "  const cancel = document.createElement('button');\n",
              "  inputElement.parentElement.appendChild(cancel);\n",
              "  cancel.textContent = 'Cancel upload';\n",
              "  const cancelPromise = new Promise((resolve) => {\n",
              "    cancel.onclick = () => {\n",
              "      resolve(null);\n",
              "    };\n",
              "  });\n",
              "\n",
              "  // Wait for the user to pick the files.\n",
              "  const files = yield {\n",
              "    promise: Promise.race([pickedPromise, cancelPromise]),\n",
              "    response: {\n",
              "      action: 'starting',\n",
              "    }\n",
              "  };\n",
              "\n",
              "  cancel.remove();\n",
              "\n",
              "  // Disable the input element since further picks are not allowed.\n",
              "  inputElement.disabled = true;\n",
              "\n",
              "  if (!files) {\n",
              "    return {\n",
              "      response: {\n",
              "        action: 'complete',\n",
              "      }\n",
              "    };\n",
              "  }\n",
              "\n",
              "  for (const file of files) {\n",
              "    const li = document.createElement('li');\n",
              "    li.append(span(file.name, {fontWeight: 'bold'}));\n",
              "    li.append(span(\n",
              "        `(${file.type || 'n/a'}) - ${file.size} bytes, ` +\n",
              "        `last modified: ${\n",
              "            file.lastModifiedDate ? file.lastModifiedDate.toLocaleDateString() :\n",
              "                                    'n/a'} - `));\n",
              "    const percent = span('0% done');\n",
              "    li.appendChild(percent);\n",
              "\n",
              "    outputElement.appendChild(li);\n",
              "\n",
              "    const fileDataPromise = new Promise((resolve) => {\n",
              "      const reader = new FileReader();\n",
              "      reader.onload = (e) => {\n",
              "        resolve(e.target.result);\n",
              "      };\n",
              "      reader.readAsArrayBuffer(file);\n",
              "    });\n",
              "    // Wait for the data to be ready.\n",
              "    let fileData = yield {\n",
              "      promise: fileDataPromise,\n",
              "      response: {\n",
              "        action: 'continue',\n",
              "      }\n",
              "    };\n",
              "\n",
              "    // Use a chunked sending to avoid message size limits. See b/62115660.\n",
              "    let position = 0;\n",
              "    do {\n",
              "      const length = Math.min(fileData.byteLength - position, MAX_PAYLOAD_SIZE);\n",
              "      const chunk = new Uint8Array(fileData, position, length);\n",
              "      position += length;\n",
              "\n",
              "      const base64 = btoa(String.fromCharCode.apply(null, chunk));\n",
              "      yield {\n",
              "        response: {\n",
              "          action: 'append',\n",
              "          file: file.name,\n",
              "          data: base64,\n",
              "        },\n",
              "      };\n",
              "\n",
              "      let percentDone = fileData.byteLength === 0 ?\n",
              "          100 :\n",
              "          Math.round((position / fileData.byteLength) * 100);\n",
              "      percent.textContent = `${percentDone}% done`;\n",
              "\n",
              "    } while (position < fileData.byteLength);\n",
              "  }\n",
              "\n",
              "  // All done.\n",
              "  yield {\n",
              "    response: {\n",
              "      action: 'complete',\n",
              "    }\n",
              "  };\n",
              "}\n",
              "\n",
              "scope.google = scope.google || {};\n",
              "scope.google.colab = scope.google.colab || {};\n",
              "scope.google.colab._files = {\n",
              "  _uploadFiles,\n",
              "  _uploadFilesContinue,\n",
              "};\n",
              "})(self);\n",
              "</script> "
            ]
          },
          "metadata": {}
        },
        {
          "output_type": "stream",
          "name": "stderr",
          "text": [
            "INFO - FilePath: /content/DriverLicense.pdf\n"
          ]
        },
        {
          "output_type": "stream",
          "name": "stdout",
          "text": [
            "Saving DriverLicense.pdf to DriverLicense.pdf\n"
          ]
        }
      ]
    },
    {
      "cell_type": "markdown",
      "source": [
        "## Upload Document to S3 Bucket"
      ],
      "metadata": {
        "id": "cUgkbRBlRBoe"
      }
    },
    {
      "cell_type": "code",
      "source": [
        "import uuid\n",
        "\n",
        "# create bucket textract-cache-store if not exists\n",
        "BUCKET_NAME = 'textract-cache-store'\n",
        "try:\n",
        "  s3.head_bucket(Bucket=BUCKET_NAME)\n",
        "  log.info(f\"Bucket {BUCKET_NAME} Found\")\n",
        "\n",
        "except botocore.exceptions.ClientError as e:\n",
        "  if e.response['Error']['Code'] == '404':\n",
        "    s3.create_bucket(Bucket=BUCKET_NAME)\n",
        "    log.info(f\"Bucket {BUCKET_NAME} Created\")\n",
        "  else:\n",
        "    log.error(str(e))\n",
        "    raise e\n",
        "\n",
        "# upload document to S3\n",
        "DOCUMENT_KEY = f\"{str(uuid.uuid4())}.pdf\"\n",
        "try:\n",
        "  s3.upload_file(\n",
        "      Filename=FILEPATH.absolute(),\n",
        "      Bucket=BUCKET_NAME,\n",
        "      Key=DOCUMENT_KEY\n",
        "  )\n",
        "\n",
        "except botocore.exceptions.ClientError as e:\n",
        "  log.error(str(e))\n",
        "  raise e\n",
        "\n",
        "log.info(f\"Document {DOCUMENT_KEY} Uploaded to Bucket {BUCKET_NAME}\")"
      ],
      "metadata": {
        "colab": {
          "base_uri": "https://localhost:8080/"
        },
        "id": "60k5SVnfQuCI",
        "outputId": "645e5b10-bdc7-4c64-e2f4-420983126463"
      },
      "execution_count": null,
      "outputs": [
        {
          "output_type": "stream",
          "name": "stderr",
          "text": [
            "INFO - Bucket textract-cache-store Found\n",
            "INFO - Document 43c5aca6-e8e2-48f2-8fff-25b054ab2e0a.pdf Uploaded to Bucket textract-cache-store\n"
          ]
        }
      ]
    },
    {
      "cell_type": "markdown",
      "source": [
        "# Amazon Textract"
      ],
      "metadata": {
        "id": "dGE8CX-6bSKA"
      }
    },
    {
      "cell_type": "markdown",
      "source": [
        "## Create Client"
      ],
      "metadata": {
        "id": "OGO5HttTb_jV"
      }
    },
    {
      "cell_type": "code",
      "source": [
        "textract = AWS_SESSION.client('textract')"
      ],
      "metadata": {
        "id": "rxs8NL4AShpZ"
      },
      "execution_count": null,
      "outputs": []
    },
    {
      "cell_type": "markdown",
      "source": [
        "## Define Queries"
      ],
      "metadata": {
        "id": "7QclVcXGc-N9"
      }
    },
    {
      "cell_type": "code",
      "source": [
        "QUERIES = [\n",
        "    \"What is the Title of the Document\",\n",
        "    \"What is the Name of Employer\",\n",
        "    \"What is the Date?\"\n",
        "]\n",
        "\n",
        "ALIAS = [\n",
        "    \"Title\",\n",
        "    \"Employer\",\n",
        "    \"Date\"\n",
        "\n",
        "]\n",
        "\n",
        "if not len(QUERIES) == len(ALIAS):\n",
        "  log.error(\"Mismatch in Number of Queries & Aliases\")\n",
        "  raise ValueError(\"Number of Queries and Aliases must be equal\")\n",
        "\n",
        "log.info(f\"Total Queries: {len(QUERIES)}\")"
      ],
      "metadata": {
        "colab": {
          "base_uri": "https://localhost:8080/"
        },
        "id": "EFgHQzEydAbL",
        "outputId": "ec6e2ca0-68b2-4cfd-8d20-4d46e11d19ea"
      },
      "execution_count": null,
      "outputs": [
        {
          "output_type": "stream",
          "name": "stderr",
          "text": [
            "INFO - Total Queries: 3\n"
          ]
        }
      ]
    },
    {
      "cell_type": "markdown",
      "source": [
        "## Start Job"
      ],
      "metadata": {
        "id": "4b3cFrLscU5R"
      }
    },
    {
      "cell_type": "code",
      "source": [
        "response = textract.start_document_analysis(\n",
        "    DocumentLocation={\n",
        "        'S3Object': {\n",
        "            'Bucket': BUCKET_NAME,\n",
        "            'Name': DOCUMENT_KEY\n",
        "        }\n",
        "    },\n",
        "    FeatureTypes=['QUERIES'],\n",
        "    QueriesConfig={\n",
        "        'Queries': [\n",
        "            {'Text': query, \"Alias\": alias}\n",
        "            for query, alias in zip(QUERIES, ALIAS)\n",
        "        ]\n",
        "    }\n",
        ")\n",
        "\n",
        "jobid = response['JobId']\n",
        "log.info(f\"JobId: {jobid}\")"
      ],
      "metadata": {
        "colab": {
          "base_uri": "https://localhost:8080/"
        },
        "id": "ryzmKhhLcUVg",
        "outputId": "edd5ec6f-39a8-4aae-8313-44c6cb688074"
      },
      "execution_count": null,
      "outputs": [
        {
          "output_type": "stream",
          "name": "stderr",
          "text": [
            "INFO - JobId: 9197be8c3cc8a0faa5a46a00214e12525ec2aaceefb1b9bf6925545a2a51e823\n"
          ]
        }
      ]
    },
    {
      "cell_type": "markdown",
      "source": [
        "## Check if Completed"
      ],
      "metadata": {
        "id": "Rz4PHiivfeXR"
      }
    },
    {
      "cell_type": "code",
      "source": [
        "import time\n",
        "\n",
        "while True:\n",
        "  response = textract.get_document_analysis(JobId=jobid)\n",
        "  status = response['JobStatus']\n",
        "  log.info(f\"JobStatus: {status}\")\n",
        "\n",
        "  if status == 'SUCCEEDED':\n",
        "    break\n",
        "  elif status == 'FAILED':\n",
        "    log.error(response['StatusMessage'])\n",
        "  else:\n",
        "    time.sleep(2)\n",
        "    continue"
      ],
      "metadata": {
        "colab": {
          "base_uri": "https://localhost:8080/"
        },
        "id": "tu11nItte6JJ",
        "outputId": "e8858358-683e-49a4-dc10-ddccd1e7dd36"
      },
      "execution_count": null,
      "outputs": [
        {
          "output_type": "stream",
          "name": "stderr",
          "text": [
            "INFO - JobStatus: IN_PROGRESS\n",
            "INFO - JobStatus: IN_PROGRESS\n",
            "INFO - JobStatus: SUCCEEDED\n"
          ]
        }
      ]
    },
    {
      "cell_type": "markdown",
      "source": [
        "# Filter Results"
      ],
      "metadata": {
        "id": "rn-RrW1efwVE"
      }
    },
    {
      "cell_type": "code",
      "source": [
        "def retrieve_answer_block_id(block: dict):\n",
        "    if \"Relationships\" not in block:\n",
        "        return None\n",
        "    for relation in block[\"Relationships\"]:\n",
        "        if relation[\"Type\"] == \"ANSWER\":\n",
        "            return relation[\"Ids\"][0]\n",
        "\n",
        "\n",
        "def retrieve_answer_text(blocks: list[dict], answer_block_id: str):\n",
        "    for block in blocks:\n",
        "        if block[\"Id\"] == answer_block_id:\n",
        "            return block[\"Text\"]\n",
        "\n",
        "\n",
        "def postprocess(textract_response: dict) -> dict[str, str]:\n",
        "    response = dict()\n",
        "    blocks = textract_response[\"Blocks\"]\n",
        "    for block in blocks:\n",
        "        if block[\"BlockType\"] == \"QUERY\":\n",
        "            query = block[\"Query\"][\"Text\"]\n",
        "            alias = block['Query']['Alias']\n",
        "            answer_id = retrieve_answer_block_id(block)\n",
        "            answer = retrieve_answer_text(blocks, answer_id)\n",
        "            response[alias] = answer\n",
        "    log.info(\"Filtered the Response\")\n",
        "    return response\n",
        "\n",
        "filtered_response = postprocess(response)"
      ],
      "metadata": {
        "colab": {
          "base_uri": "https://localhost:8080/"
        },
        "id": "iB2McPulfkeC",
        "outputId": "ecccc4ff-2b6a-4abb-ebda-a9350d8904c5"
      },
      "execution_count": null,
      "outputs": [
        {
          "output_type": "stream",
          "name": "stderr",
          "text": [
            "INFO - Filtered the Response\n"
          ]
        }
      ]
    },
    {
      "cell_type": "code",
      "source": [
        "filtered_response"
      ],
      "metadata": {
        "colab": {
          "base_uri": "https://localhost:8080/"
        },
        "id": "SOFQIZlKgTjc",
        "outputId": "fcefe244-aaf0-49de-d4c3-17a7b1e55fb2"
      },
      "execution_count": null,
      "outputs": [
        {
          "output_type": "execute_result",
          "data": {
            "text/plain": [
              "{'Title': 'PERMIS DE CONDUIRE', 'Employer': 'RENCK', 'Date': '02/21/01'}"
            ]
          },
          "metadata": {},
          "execution_count": 11
        }
      ]
    },
    {
      "cell_type": "markdown",
      "source": [
        "## Delete File from S3"
      ],
      "metadata": {
        "id": "bi8bbMyljO3A"
      }
    },
    {
      "cell_type": "code",
      "source": [
        "def delete_file(key: str, bucket: str):\n",
        "  try:\n",
        "    s3.delete_object(\n",
        "        Bucket=bucket,\n",
        "        Key=key\n",
        "    )\n",
        "    log.info(f\"Deleted {key} from Bucket {bucket}\")\n",
        "\n",
        "  except botocore.exceptions.ClientError as e:\n",
        "    log.error(str(e))\n",
        "    raise e\n",
        "\n",
        "\n",
        "delete_file(DOCUMENT_KEY, 'textract-cache-store')"
      ],
      "metadata": {
        "id": "WnIYIISJhdQu",
        "colab": {
          "base_uri": "https://localhost:8080/"
        },
        "outputId": "6088774b-73c1-4143-af82-50f26253247f"
      },
      "execution_count": null,
      "outputs": [
        {
          "output_type": "stream",
          "name": "stderr",
          "text": [
            "INFO - Deleted 43c5aca6-e8e2-48f2-8fff-25b054ab2e0a.pdf from Bucket textract-cache-store\n"
          ]
        }
      ]
    },
    {
      "cell_type": "markdown",
      "source": [
        "# List files in Textract Bucket"
      ],
      "metadata": {
        "id": "wu4TOxh6jf4o"
      }
    },
    {
      "cell_type": "code",
      "source": [
        "response = s3.list_objects_v2(Bucket='textract-cache-store')\n",
        "\n",
        "if 'Contents' not in response:\n",
        "  log.error(\"No Files Found\")\n",
        "  files = None\n",
        "else:\n",
        "  files = [obj['Key'] for obj in response['Contents']]\n",
        "  print(files)"
      ],
      "metadata": {
        "colab": {
          "base_uri": "https://localhost:8080/"
        },
        "id": "9CVlciBojYgf",
        "outputId": "58ee540e-b531-4623-ab8f-0858d4acb3ca"
      },
      "execution_count": null,
      "outputs": [
        {
          "output_type": "stream",
          "name": "stderr",
          "text": [
            "ERROR - No Files Found\n"
          ]
        }
      ]
    },
    {
      "cell_type": "code",
      "source": [
        "for file in files:\n",
        "  delete_file(file, 'textract-cache-store')"
      ],
      "metadata": {
        "colab": {
          "base_uri": "https://localhost:8080/",
          "height": 159
        },
        "id": "1ysC8OHykCzb",
        "outputId": "d6c0719e-4a25-4215-9617-1ded533209c2"
      },
      "execution_count": null,
      "outputs": [
        {
          "output_type": "error",
          "ename": "TypeError",
          "evalue": "'NoneType' object is not iterable",
          "traceback": [
            "\u001b[0;31m---------------------------------------------------------------------------\u001b[0m",
            "\u001b[0;31mTypeError\u001b[0m                                 Traceback (most recent call last)",
            "\u001b[0;32m<ipython-input-14-0aed956ca3d5>\u001b[0m in \u001b[0;36m<cell line: 0>\u001b[0;34m()\u001b[0m\n\u001b[0;32m----> 1\u001b[0;31m \u001b[0;32mfor\u001b[0m \u001b[0mfile\u001b[0m \u001b[0;32min\u001b[0m \u001b[0mfiles\u001b[0m\u001b[0;34m:\u001b[0m\u001b[0;34m\u001b[0m\u001b[0;34m\u001b[0m\u001b[0m\n\u001b[0m\u001b[1;32m      2\u001b[0m   \u001b[0mdelete_file\u001b[0m\u001b[0;34m(\u001b[0m\u001b[0mfile\u001b[0m\u001b[0;34m,\u001b[0m \u001b[0;34m'textract-cache-store'\u001b[0m\u001b[0;34m)\u001b[0m\u001b[0;34m\u001b[0m\u001b[0;34m\u001b[0m\u001b[0m\n",
            "\u001b[0;31mTypeError\u001b[0m: 'NoneType' object is not iterable"
          ]
        }
      ]
    },
    {
      "cell_type": "code",
      "source": [],
      "metadata": {
        "id": "Wm4vfUQKjHd-"
      },
      "execution_count": null,
      "outputs": []
    }
  ]
}